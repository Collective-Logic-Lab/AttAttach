{
 "cells": [
  {
   "cell_type": "markdown",
   "id": "333fa995",
   "metadata": {},
   "source": [
    "# New output to minimizes Hmax\n",
    "Enrico Borriello, Oct 19, 2023"
   ]
  },
  {
   "cell_type": "code",
   "execution_count": 8,
   "id": "dea1b5e6",
   "metadata": {},
   "outputs": [],
   "source": [
    "import networkx as nx\n",
    "import AttAttach.attattach as at\n",
    "from networkx.algorithms import isomorphism\n",
    "import random"
   ]
  },
  {
   "cell_type": "code",
   "execution_count": 9,
   "id": "d7b2cdb0",
   "metadata": {},
   "outputs": [
    {
     "data": {
      "text/plain": [
       "[(0, 0), (1, 0), (2, 0), (3, 0), (4, 0), (5, 0), (6, 5), (7, 1)]"
      ]
     },
     "execution_count": 9,
     "metadata": {},
     "output_type": "execute_result"
    }
   ],
   "source": [
    "#landscape_structure = [[1,.25],[1,.50],[1,.05],[1,.20]]\n",
    "landscape_structure = [[1,1]]\n",
    "n = 3\n",
    "transitions = at.generate_landscape(n,landscape_structure)\n",
    "transitions"
   ]
  },
  {
   "cell_type": "code",
   "execution_count": 6,
   "id": "fc709c86",
   "metadata": {},
   "outputs": [
    {
     "data": {
      "text/plain": [
       "[(0, 4), (1, 1), (2, 1), (3, 2), (4, 1), (5, 6), (6, 1), (7, 2)]"
      ]
     },
     "execution_count": 6,
     "metadata": {},
     "output_type": "execute_result"
    }
   ],
   "source": [
    "at.random_labels_permutation (transitions)"
   ]
  },
  {
   "cell_type": "code",
   "execution_count": 7,
   "id": "5a9baee2",
   "metadata": {},
   "outputs": [
    {
     "data": {
      "text/plain": [
       "(2, [(0, 0), (1, 0), (2, 0), (3, 0), (4, 2), (5, 3), (6, 3), (7, 1)])"
      ]
     },
     "execution_count": 7,
     "metadata": {},
     "output_type": "execute_result"
    }
   ],
   "source": [
    "at.smallH_labels_permutation (transitions)"
   ]
  },
  {
   "cell_type": "code",
   "execution_count": null,
   "id": "ffa1d68b",
   "metadata": {},
   "outputs": [],
   "source": []
  },
  {
   "cell_type": "code",
   "execution_count": null,
   "id": "7cbd91bf",
   "metadata": {},
   "outputs": [],
   "source": [
    "# This needs to become \"random_labels_permutation\"\n",
    "\n",
    "def labels_permutation (transitions):\n",
    "    \"\"\"\n",
    "    randomly reassign state labels\n",
    "    \"\"\"\n",
    "    # Generate a random permutation of the labels\n",
    "    s = len(transitions)\n",
    "    p = list(range(s))\n",
    "    random.shuffle(p)\n",
    "    # Create a new list of edges with the updated labels\n",
    "    new_transitions = [(p[i], p[j]) for (i, j) in transitions]\n",
    "    sorted_transitions = sorted(new_transitions, key=lambda x: x[0])\n",
    "    return sorted_transitions"
   ]
  },
  {
   "cell_type": "code",
   "execution_count": null,
   "id": "fa5e86ca",
   "metadata": {},
   "outputs": [],
   "source": [
    "s = len(transitions)\n",
    "\n",
    "\n",
    "\n",
    "\n",
    "p = list(range(s))\n",
    "random.shuffle(p)\n",
    "#p needs to change\n",
    "\n",
    "\n",
    "new_transitions = [(p[i], p[j]) for (i, j) in transitions]\n",
    "sorted_transitions = sorted(new_transitions, key=lambda x: x[0])\n",
    "sorted_transitions"
   ]
  },
  {
   "cell_type": "code",
   "execution_count": null,
   "id": "821f70da",
   "metadata": {},
   "outputs": [],
   "source": [
    "transitions"
   ]
  },
  {
   "cell_type": "code",
   "execution_count": null,
   "id": "19aa9d4d",
   "metadata": {},
   "outputs": [],
   "source": [
    "p"
   ]
  },
  {
   "cell_type": "code",
   "execution_count": null,
   "id": "fa2a1021",
   "metadata": {},
   "outputs": [],
   "source": [
    "new_transitions"
   ]
  },
  {
   "cell_type": "code",
   "execution_count": null,
   "id": "374cf71e",
   "metadata": {},
   "outputs": [],
   "source": [
    "sorted_transitions"
   ]
  },
  {
   "cell_type": "code",
   "execution_count": null,
   "id": "0c7ad2ce",
   "metadata": {},
   "outputs": [],
   "source": [
    "# example of searching for MONOmorphisms using NetworkX:\n",
    "# (see https://networkx.org/documentation/stable/reference/algorithms/isomorphism.vf2.html )\n",
    "Hmax = 2\n",
    "GT = nx.DiGraph(transitions)\n",
    "GH = nx.DiGraph(generate_edges_maximum_H(n,Hmax))\n",
    "\n",
    "DiGM = isomorphism.DiGraphMatcher(GH, GT)\n",
    "if DiGM.subgraph_is_monomorphic():\n",
    "    print(DiGM.mapping)\n",
    "else:\n",
    "    print(\"no monomorphism found\")"
   ]
  },
  {
   "cell_type": "code",
   "execution_count": null,
   "id": "7bf4bfa2",
   "metadata": {},
   "outputs": [],
   "source": [
    "len(DiGM.mapping)"
   ]
  },
  {
   "cell_type": "code",
   "execution_count": null,
   "id": "73bd8169",
   "metadata": {},
   "outputs": [],
   "source": []
  },
  {
   "cell_type": "code",
   "execution_count": null,
   "id": "d060dad4",
   "metadata": {},
   "outputs": [],
   "source": []
  },
  {
   "cell_type": "code",
   "execution_count": null,
   "id": "227597cf",
   "metadata": {},
   "outputs": [],
   "source": []
  },
  {
   "cell_type": "code",
   "execution_count": null,
   "id": "5e6ed347",
   "metadata": {},
   "outputs": [],
   "source": []
  },
  {
   "cell_type": "code",
   "execution_count": 1,
   "id": "1249eab7",
   "metadata": {},
   "outputs": [],
   "source": [
    "import networkx as nx\n",
    "import AttAttach.attattach as at\n",
    "from networkx.algorithms import isomorphism\n",
    "import random"
   ]
  },
  {
   "cell_type": "code",
   "execution_count": 2,
   "id": "6ece6b09",
   "metadata": {},
   "outputs": [],
   "source": [
    "#landscape_structure = [[1,.25],[1,.50],[1,.05],[1,.20]]\n",
    "landscape_structure = [[1,1]]\n",
    "n = 3\n",
    "transitions = at.generate_landscape(n,landscape_structure)"
   ]
  },
  {
   "cell_type": "code",
   "execution_count": 3,
   "id": "c519104e",
   "metadata": {},
   "outputs": [
    {
     "data": {
      "text/plain": [
       "[(0, 0), (1, 0), (2, 0), (3, 0), (4, 0), (5, 0), (6, 4), (7, 1)]"
      ]
     },
     "execution_count": 3,
     "metadata": {},
     "output_type": "execute_result"
    }
   ],
   "source": [
    "transitions"
   ]
  },
  {
   "cell_type": "code",
   "execution_count": null,
   "id": "84dcb47b",
   "metadata": {},
   "outputs": [],
   "source": [
    "Hmax = 0\n",
    "mapping = {}\n",
    "while len(mapping) == 0:\n",
    "    Hmax = Hmax + 1\n",
    "    GT = nx.DiGraph(transitions)\n",
    "    GH = nx.DiGraph(generate_edges_maximum_H(n,Hmax))\n",
    "    DiGM = isomorphism.DiGraphMatcher(GH, GT)\n",
    "    if DiGM.subgraph_is_monomorphic():\n",
    "        mapping = DiGM.mapping\n",
    "print(Hmax)\n",
    "print (DiGM.mapping)"
   ]
  },
  {
   "cell_type": "code",
   "execution_count": null,
   "id": "7b167c44",
   "metadata": {},
   "outputs": [],
   "source": [
    "new_transitions = [(mapping[i], mapping[j]) for (i, j) in transitions]\n",
    "sorted_transitions = sorted(new_transitions, key=lambda x: x[0])\n",
    "sorted_transitions"
   ]
  },
  {
   "cell_type": "code",
   "execution_count": null,
   "id": "3b46bfb0",
   "metadata": {},
   "outputs": [],
   "source": []
  },
  {
   "cell_type": "code",
   "execution_count": null,
   "id": "47751945",
   "metadata": {},
   "outputs": [],
   "source": [
    "import numpy as np"
   ]
  },
  {
   "cell_type": "code",
   "execution_count": null,
   "id": "25b549ac",
   "metadata": {},
   "outputs": [],
   "source": [
    "int(np.log2(len(transitions)))"
   ]
  },
  {
   "cell_type": "code",
   "execution_count": null,
   "id": "5095ca52",
   "metadata": {},
   "outputs": [],
   "source": []
  },
  {
   "cell_type": "code",
   "execution_count": null,
   "id": "5c2b6d0b",
   "metadata": {},
   "outputs": [],
   "source": [
    "def random_labels_permutation (transitions):\n",
    "    \"\"\"\n",
    "    randomly reassign state labels\n",
    "    \"\"\"\n",
    "    # Generate a random permutation of the labels\n",
    "    s = len(transitions)\n",
    "    p = list(range(s))\n",
    "    random.shuffle(p)\n",
    "    # Create a new list of edges with the updated labels\n",
    "    new_transitions = [(p[i], p[j]) for (i, j) in transitions]\n",
    "    sorted_transitions = sorted(new_transitions, key=lambda x: x[0])\n",
    "    return sorted_transitions"
   ]
  },
  {
   "cell_type": "code",
   "execution_count": null,
   "id": "0e172ccb",
   "metadata": {},
   "outputs": [],
   "source": [
    "def smallH_labels_permutation (transitions):\n",
    "    \"\"\"\n",
    "    ...\n",
    "    \"\"\"\n",
    "    Hmax = 0\n",
    "    mapping = {}\n",
    "    while len(mapping) == 0:\n",
    "        Hmax = Hmax + 1\n",
    "        GT = nx.DiGraph(transitions)\n",
    "        GH = nx.DiGraph(generate_edges_maximum_H(n,Hmax))\n",
    "        DiGM = isomorphism.DiGraphMatcher(GH, GT)\n",
    "        if DiGM.subgraph_is_monomorphic():\n",
    "            mapping = DiGM.mapping\n",
    "    \n",
    "    # Create a new list of edges with the updated labels\n",
    "    new_transitions = [(mapping[i], mapping[j]) for (i, j) in transitions]\n",
    "    sorted_transitions = sorted(new_transitions, key=lambda x: x[0])\n",
    "    #sorted_transitions\n",
    "\n",
    "    return Hmax, sorted_transitions"
   ]
  }
 ],
 "metadata": {
  "kernelspec": {
   "display_name": "Python 3",
   "language": "python",
   "name": "python3"
  },
  "language_info": {
   "codemirror_mode": {
    "name": "ipython",
    "version": 3
   },
   "file_extension": ".py",
   "mimetype": "text/x-python",
   "name": "python",
   "nbconvert_exporter": "python",
   "pygments_lexer": "ipython3",
   "version": "3.9.5"
  }
 },
 "nbformat": 4,
 "nbformat_minor": 5
}
