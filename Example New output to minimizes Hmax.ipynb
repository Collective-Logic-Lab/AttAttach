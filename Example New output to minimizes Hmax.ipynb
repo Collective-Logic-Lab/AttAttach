{
 "cells": [
  {
   "cell_type": "markdown",
   "id": "333fa995",
   "metadata": {},
   "source": [
    "# New output to minimizes Hmax\n",
    "Enrico Borriello, Oct 19, 2023"
   ]
  },
  {
   "cell_type": "code",
   "execution_count": 1,
   "id": "dea1b5e6",
   "metadata": {},
   "outputs": [],
   "source": [
    "import networkx as nx\n",
    "import AttAttach.attattach as at\n",
    "from networkx.algorithms import isomorphism\n",
    "import random"
   ]
  },
  {
   "cell_type": "code",
   "execution_count": 2,
   "id": "d7b2cdb0",
   "metadata": {},
   "outputs": [
    {
     "data": {
      "text/plain": [
       "[(0, 0), (1, 0), (2, 0), (3, 2), (4, 1), (5, 3), (6, 4), (7, 5)]"
      ]
     },
     "execution_count": 2,
     "metadata": {},
     "output_type": "execute_result"
    }
   ],
   "source": [
    "#landscape_structure = [[1,.25],[1,.50],[1,.05],[1,.20]]\n",
    "landscape_structure = [[1,1]]\n",
    "n = 3\n",
    "transitions = at.generate_landscape(n,landscape_structure)\n",
    "transitions"
   ]
  },
  {
   "cell_type": "code",
   "execution_count": 3,
   "id": "fc709c86",
   "metadata": {},
   "outputs": [
    {
     "data": {
      "text/plain": [
       "[(0, 1), (1, 1), (2, 3), (3, 1), (4, 7), (5, 2), (6, 0), (7, 6)]"
      ]
     },
     "execution_count": 3,
     "metadata": {},
     "output_type": "execute_result"
    }
   ],
   "source": [
    "at.random_labels_permutation (transitions)"
   ]
  },
  {
   "cell_type": "code",
   "execution_count": 4,
   "id": "5a9baee2",
   "metadata": {},
   "outputs": [
    {
     "data": {
      "text/plain": [
       "(1, [(0, 0), (1, 0), (2, 0), (3, 2), (4, 3), (5, 4), (6, 1), (7, 6)])"
      ]
     },
     "execution_count": 4,
     "metadata": {},
     "output_type": "execute_result"
    }
   ],
   "source": [
    "at.smallH_labels_permutation (transitions)"
   ]
  }
 ],
 "metadata": {
  "kernelspec": {
   "display_name": "Python 3",
   "language": "python",
   "name": "python3"
  },
  "language_info": {
   "codemirror_mode": {
    "name": "ipython",
    "version": 3
   },
   "file_extension": ".py",
   "mimetype": "text/x-python",
   "name": "python",
   "nbconvert_exporter": "python",
   "pygments_lexer": "ipython3",
   "version": "3.9.5"
  }
 },
 "nbformat": 4,
 "nbformat_minor": 5
}
