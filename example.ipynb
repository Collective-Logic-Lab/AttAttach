{
 "cells": [
  {
   "cell_type": "code",
   "execution_count": 1,
   "metadata": {},
   "outputs": [],
   "source": [
    "import attattach as ata"
   ]
  },
  {
   "cell_type": "code",
   "execution_count": 24,
   "metadata": {},
   "outputs": [],
   "source": [
    "num_nodes = 7\n",
    "landscape_structure = [[3,.10],[1,.25],[2,.25],[1,.40]]\n",
    "edges = ata.generate_landscape(num_nodes,landscape_structure)"
   ]
  },
  {
   "cell_type": "code",
   "execution_count": 25,
   "metadata": {},
   "outputs": [
    {
     "name": "stdout",
     "output_type": "stream",
     "text": [
      "4\n"
     ]
    }
   ],
   "source": [
    "import networkx as nx\n",
    "\n",
    "# Create the graph object\n",
    "G = nx.Graph()\n",
    "G.add_edges_from(edges)\n",
    "\n",
    "# Count the number of connected components\n",
    "num_components = nx.number_connected_components(G)\n",
    "\n",
    "print(num_components)"
   ]
  },
  {
   "cell_type": "code",
   "execution_count": 26,
   "metadata": {},
   "outputs": [
    {
     "data": {
      "text/html": [
       "\n",
       "        <iframe\n",
       "            width=\"500px\"\n",
       "            height=\"500px\"\n",
       "            src=\"mygraph.html\"\n",
       "            frameborder=\"0\"\n",
       "            allowfullscreen\n",
       "        ></iframe>\n",
       "        "
      ],
      "text/plain": [
       "<IPython.lib.display.IFrame at 0x15b1cee50>"
      ]
     },
     "execution_count": 26,
     "metadata": {},
     "output_type": "execute_result"
    }
   ],
   "source": [
    "from pyvis.network import Network\n",
    "\n",
    "net = Network(notebook = True,directed=False)\n",
    "\n",
    "# Add nodes and edges to the network\n",
    "for edge in edges:\n",
    "    net.add_node(edge[0])\n",
    "    net.add_node(edge[1])\n",
    "    net.add_edge(edge[0], edge[1])\n",
    "\n",
    "# Show the network\n",
    "net.show(\"mygraph.html\")"
   ]
  },
  {
   "cell_type": "code",
   "execution_count": null,
   "metadata": {},
   "outputs": [],
   "source": [
    "# Slow, alternative method:"
   ]
  },
  {
   "cell_type": "raw",
   "metadata": {},
   "source": [
    "import random\n",
    "import numpy as np\n",
    "import networkx as nx"
   ]
  },
  {
   "cell_type": "raw",
   "metadata": {},
   "source": [
    "def generate_transtions_v0 (num_nodes , num_attractors):\n",
    "    n = num_nodes\n",
    "    s = 2**n # number of states\n",
    "    r = num_attractors\n",
    "\n",
    "    num_att = 0\n",
    "    while num_att != r:\n",
    "        edgelist = [(i,random.randint(0, s-1)) for i in range(s)]\n",
    "        G = nx.from_edgelist(edgelist)\n",
    "        num_att = nx.number_connected_components(G)\n",
    "    \n",
    "    sizes = [len(B) for B in sorted(nx.connected_components(G), key=len, reverse=True)]\n",
    "\n",
    "    return sizes, edgelist"
   ]
  },
  {
   "cell_type": "raw",
   "metadata": {},
   "source": [
    "basin_sizes, transitions = generate_transtions_v0 (num_nodes = 10 , num_attractors = 5)\n",
    "basin_sizes"
   ]
  },
  {
   "cell_type": "code",
   "execution_count": null,
   "metadata": {},
   "outputs": [],
   "source": []
  }
 ],
 "metadata": {
  "kernelspec": {
   "display_name": "Python 2",
   "language": "python",
   "name": "python2"
  },
  "language_info": {
   "codemirror_mode": {
    "name": "ipython",
    "version": 3
   },
   "file_extension": ".py",
   "mimetype": "text/x-python",
   "name": "python",
   "nbconvert_exporter": "python",
   "pygments_lexer": "ipython3",
   "version": "3.9.5"
  }
 },
 "nbformat": 4,
 "nbformat_minor": 2
}
