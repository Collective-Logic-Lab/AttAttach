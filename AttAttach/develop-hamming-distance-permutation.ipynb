{
 "cells": [
  {
   "cell_type": "code",
   "execution_count": null,
   "id": "c0dac8ad",
   "metadata": {},
   "outputs": [],
   "source": [
    "# develop-hamming-distance-permutation.ipynb\n",
    "#\n",
    "# Bryan Daniels, Enrico Borriello\n",
    "# 2023/9/19\n",
    "#"
   ]
  },
  {
   "cell_type": "code",
   "execution_count": 3,
   "id": "b50233df",
   "metadata": {},
   "outputs": [],
   "source": [
    "import attattach as at\n",
    "import numpy as np"
   ]
  },
  {
   "cell_type": "code",
   "execution_count": null,
   "id": "eabd8dbf",
   "metadata": {},
   "outputs": [],
   "source": [
    "at.join_transitions()"
   ]
  },
  {
   "cell_type": "code",
   "execution_count": 4,
   "id": "f07f884d",
   "metadata": {},
   "outputs": [],
   "source": [
    "def label_to_state (label, digits):\n",
    "    return np.array(list(map(int,list(format(label,'0'+str(digits)+'b')))))\n",
    "\n",
    "def state_to_label (state):\n",
    "    return int(''.join(map(str,state)),2)"
   ]
  },
  {
   "cell_type": "code",
   "execution_count": 7,
   "id": "d5e04132",
   "metadata": {},
   "outputs": [],
   "source": [
    "def hamming_distance(label1,label2,n):\n",
    "    return np.sum(abs(label_to_state(label1,n) - label_to_state(label2,n)))"
   ]
  },
  {
   "cell_type": "code",
   "execution_count": 11,
   "id": "2af2d99e",
   "metadata": {},
   "outputs": [
    {
     "data": {
      "text/plain": [
       "1"
      ]
     },
     "execution_count": 11,
     "metadata": {},
     "output_type": "execute_result"
    }
   ],
   "source": [
    "hamming_distance(1,3,n)"
   ]
  },
  {
   "cell_type": "code",
   "execution_count": 13,
   "id": "c8ff76e5",
   "metadata": {},
   "outputs": [
    {
     "data": {
      "text/plain": [
       "1"
      ]
     },
     "execution_count": 13,
     "metadata": {},
     "output_type": "execute_result"
    }
   ],
   "source": [
    "hamming_distance(1,5,n)"
   ]
  },
  {
   "cell_type": "code",
   "execution_count": 19,
   "id": "edd7ddf1",
   "metadata": {},
   "outputs": [
    {
     "data": {
      "text/plain": [
       "0"
      ]
     },
     "execution_count": 19,
     "metadata": {},
     "output_type": "execute_result"
    }
   ],
   "source": [
    "hamming_distance(21,21,n)"
   ]
  },
  {
   "cell_type": "code",
   "execution_count": 16,
   "id": "ed43bf36",
   "metadata": {},
   "outputs": [
    {
     "data": {
      "text/plain": [
       "array([1, 0, 1, 0, 1])"
      ]
     },
     "execution_count": 16,
     "metadata": {},
     "output_type": "execute_result"
    }
   ],
   "source": [
    "label_to_state(21,n)"
   ]
  },
  {
   "cell_type": "code",
   "execution_count": 24,
   "id": "c54aed64",
   "metadata": {},
   "outputs": [
    {
     "data": {
      "text/plain": [
       "20"
      ]
     },
     "execution_count": 24,
     "metadata": {},
     "output_type": "execute_result"
    }
   ],
   "source": [
    "state_to_label([1,0,1,0,0])"
   ]
  },
  {
   "cell_type": "code",
   "execution_count": null,
   "id": "c703387a",
   "metadata": {},
   "outputs": [],
   "source": [
    "def labels_permutation_close(transitions):\n",
    "    \"\"\"\n",
    "    randomly reassign state labels,\n",
    "    with bias toward states that are closer in\n",
    "    Hamming distance\n",
    "    \"\"\"\n",
    "    # Generate a random permutation of the labels\n",
    "    s = len(transitions)\n",
    "    p = list(range(s))\n",
    "    random.shuffle(p)\n",
    "    # Create a new list of edges with the updated labels\n",
    "    new_transitions = [(p[i], p[j]) for (i, j) in transitions]\n",
    "    sorted_transitions = sorted(new_transitions, key=lambda x: x[0])\n",
    "    return sorted_transitions"
   ]
  },
  {
   "cell_type": "code",
   "execution_count": null,
   "id": "b5ef1cb3",
   "metadata": {},
   "outputs": [],
   "source": [
    "def generate_landscape(num_nodes,landscape_structure,close=True):\n",
    "    \"\"\"\n",
    "    Sample landscape structure: [[3,.25],[1,.50],[1,.05],[2,.20]]\n",
    "    This corresponds to 4 attractors, of lengths 3, 1, 1, and 2,\n",
    "    with relative basins sizes equal to 25%, 50%, 5%, and 20%\n",
    "    \"\"\"\n",
    "    \n",
    "    s = 2**num_nodes # total number of states in the attractor landscape\n",
    "\n",
    "    # Read the structure of the attractor landscape\n",
    "    lengths = [B[0] for B in landscape_structure]\n",
    "    rel_sizes = [B[1] for B in landscape_structure]\n",
    "    sizes = [int(rel_size*s) for rel_size in rel_sizes] # the last one might be wrong\n",
    "    sizes[-1] = s-(sum(sizes)-sizes[-1]) # this fixes it\n",
    "    # attractor states in each basin:\n",
    "    num_att_states = [ landscape_structure[i][0] for i in range(len(landscape_structure)) ]\n",
    "    \n",
    "    # CONDITION 1:\n",
    "    # 'The sum of the relative basin sizes needs to be 1'\n",
    "    c1 = np.allclose(sum(rel_sizes),1.) \n",
    "\n",
    "    # CONDITION 2:\n",
    "    # All the basins have at least size 1 \n",
    "    # (For small n and small relative size of a basin, the product might result in zero states)\n",
    "    c2 = np.prod([sizes[i] > 0 for i in range(len(sizes))])\n",
    "\n",
    "    # CONDITION3:\n",
    "    # There are at least as many states as attractor states\n",
    "    c3 = np.sum(num_att_states) <= s\n",
    "\n",
    "    # CONDITION4:\n",
    "    # There are at least as many states as attractor states **in each individual basin**\n",
    "    c4 = np.prod([ num_att_states[i] <= sizes[i] for i in range(len(landscape_structure)) ])\n",
    "\n",
    "    # If all conditions are satisfied, proceed:\n",
    "    if c1*c2*c3*c4:\n",
    "    \n",
    "        # generate the individual basins\n",
    "        t = []\n",
    "        for i in range(len(landscape_structure)):\n",
    "            t.append(transitions(lengths[i], sizes[i]))\n",
    "\n",
    "        # join them with the sequential relabeling \n",
    "        all_t = []\n",
    "        for i in range(len(t)):\n",
    "            all_t = join_transitions(all_t,t[i])\n",
    "    \n",
    "        if close:\n",
    "            return labels_permutation_close(all_t)\n",
    "        else:\n",
    "            return labels_permutation(all_t)\n",
    "\n",
    "    else:\n",
    "        if not c1:\n",
    "            print('ERROR: The sum of the relative basin sizes is not 1.')\n",
    "        if not c2:\n",
    "            print('ERROR: At least one basin has size 0.')\n",
    "            print('       (relative size is too small for your n).')\n",
    "        if not c3:\n",
    "            print('ERROR: There are more attractor states than total states.')\n",
    "        if not c4:\n",
    "            print('ERROR: There are more attractor states than total states in at least one basin.')\n",
    "        return None\n"
   ]
  },
  {
   "cell_type": "code",
   "execution_count": 2,
   "id": "1222b241",
   "metadata": {},
   "outputs": [
    {
     "data": {
      "text/plain": [
       "[(0, 8),\n",
       " (1, 28),\n",
       " (2, 28),\n",
       " (3, 20),\n",
       " (4, 28),\n",
       " (5, 28),\n",
       " (6, 9),\n",
       " (7, 25),\n",
       " (8, 6),\n",
       " (9, 18),\n",
       " (10, 28),\n",
       " (11, 28),\n",
       " (12, 28),\n",
       " (13, 31),\n",
       " (14, 14),\n",
       " (15, 25),\n",
       " (16, 28),\n",
       " (17, 25),\n",
       " (18, 18),\n",
       " (19, 25),\n",
       " (20, 9),\n",
       " (21, 23),\n",
       " (22, 28),\n",
       " (23, 28),\n",
       " (24, 8),\n",
       " (25, 30),\n",
       " (26, 13),\n",
       " (27, 25),\n",
       " (28, 28),\n",
       " (29, 28),\n",
       " (30, 30),\n",
       " (31, 28)]"
      ]
     },
     "execution_count": 2,
     "metadata": {},
     "output_type": "execute_result"
    }
   ],
   "source": [
    "landscape_structure = [[1,.25],[1,.50],[1,.05],[1,.20]]\n",
    "n = 5\n",
    "at.generate_landscape(n,landscape_structure)"
   ]
  },
  {
   "cell_type": "code",
   "execution_count": null,
   "id": "c9a804f3",
   "metadata": {},
   "outputs": [],
   "source": []
  }
 ],
 "metadata": {
  "kernelspec": {
   "display_name": "Python 3 (ipykernel)",
   "language": "python",
   "name": "python3"
  },
  "language_info": {
   "codemirror_mode": {
    "name": "ipython",
    "version": 3
   },
   "file_extension": ".py",
   "mimetype": "text/x-python",
   "name": "python",
   "nbconvert_exporter": "python",
   "pygments_lexer": "ipython3",
   "version": "3.9.16"
  }
 },
 "nbformat": 4,
 "nbformat_minor": 5
}
