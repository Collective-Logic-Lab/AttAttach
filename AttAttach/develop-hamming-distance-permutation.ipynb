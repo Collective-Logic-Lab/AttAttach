{
 "cells": [
  {
   "cell_type": "code",
   "execution_count": null,
   "id": "08879120",
   "metadata": {},
   "outputs": [],
   "source": [
    "# develop-hamming-distance-permutation.ipynb\n",
    "#\n",
    "# Bryan Daniels, Enrico Borriello\n",
    "# 2023/9/19\n",
    "#"
   ]
  },
  {
   "cell_type": "code",
   "execution_count": 4,
   "id": "7d35211c",
   "metadata": {},
   "outputs": [],
   "source": [
    "import attattach as at\n",
    "import numpy as np"
   ]
  },
  {
   "cell_type": "code",
   "execution_count": 5,
   "id": "8e0aa769",
   "metadata": {},
   "outputs": [],
   "source": [
    "def label_to_state (label, digits):\n",
    "    return np.array(list(map(int,list(format(label,'0'+str(digits)+'b')))))\n",
    "\n",
    "def state_to_label (state):\n",
    "    return int(''.join(map(str,state)),2)"
   ]
  },
  {
   "cell_type": "code",
   "execution_count": 6,
   "id": "a3f45c24",
   "metadata": {},
   "outputs": [],
   "source": [
    "def hamming_distance(label1,label2,n):\n",
    "    return np.sum(abs(label_to_state(label1,n) - label_to_state(label2,n)))"
   ]
  },
  {
   "cell_type": "code",
   "execution_count": 7,
   "id": "e50a44a7",
   "metadata": {},
   "outputs": [
    {
     "ename": "NameError",
     "evalue": "name 'n' is not defined",
     "output_type": "error",
     "traceback": [
      "\u001b[0;31m---------------------------------------------------------------------------\u001b[0m",
      "\u001b[0;31mNameError\u001b[0m                                 Traceback (most recent call last)",
      "Cell \u001b[0;32mIn[7], line 1\u001b[0m\n\u001b[0;32m----> 1\u001b[0m hamming_distance(\u001b[38;5;241m1\u001b[39m,\u001b[38;5;241m3\u001b[39m,\u001b[43mn\u001b[49m)\n",
      "\u001b[0;31mNameError\u001b[0m: name 'n' is not defined"
     ]
    }
   ],
   "source": [
    "hamming_distance(1,3,n)"
   ]
  },
  {
   "cell_type": "code",
   "execution_count": 13,
   "id": "d268a5c6",
   "metadata": {},
   "outputs": [
    {
     "data": {
      "text/plain": [
       "1"
      ]
     },
     "execution_count": 13,
     "metadata": {},
     "output_type": "execute_result"
    }
   ],
   "source": [
    "hamming_distance(1,5,n)"
   ]
  },
  {
   "cell_type": "code",
   "execution_count": 19,
   "id": "97ea63ca",
   "metadata": {},
   "outputs": [
    {
     "data": {
      "text/plain": [
       "0"
      ]
     },
     "execution_count": 19,
     "metadata": {},
     "output_type": "execute_result"
    }
   ],
   "source": [
    "hamming_distance(21,21,n)"
   ]
  },
  {
   "cell_type": "code",
   "execution_count": 16,
   "id": "ea1f342e",
   "metadata": {},
   "outputs": [
    {
     "data": {
      "text/plain": [
       "array([1, 0, 1, 0, 1])"
      ]
     },
     "execution_count": 16,
     "metadata": {},
     "output_type": "execute_result"
    }
   ],
   "source": [
    "label_to_state(21,n)"
   ]
  },
  {
   "cell_type": "code",
   "execution_count": 24,
   "id": "c77aa0eb",
   "metadata": {},
   "outputs": [
    {
     "data": {
      "text/plain": [
       "20"
      ]
     },
     "execution_count": 24,
     "metadata": {},
     "output_type": "execute_result"
    }
   ],
   "source": [
    "state_to_label([1,0,1,0,0])"
   ]
  },
  {
   "cell_type": "code",
   "execution_count": 7,
   "id": "dd06de2a",
   "metadata": {},
   "outputs": [],
   "source": [
    "def labels_permutation_close(transitions):\n",
    "    \"\"\"\n",
    "    randomly reassign state labels,\n",
    "    with bias toward states that are closer in\n",
    "    Hamming distance\n",
    "    \"\"\"\n",
    "    # Generate a random permutation of the labels\n",
    "    s = len(transitions)\n",
    "    p = list(range(s))\n",
    "    random.shuffle(p)\n",
    "    # Create a new list of edges with the updated labels\n",
    "    new_transitions = [(p[i], p[j]) for (i, j) in transitions]\n",
    "    sorted_transitions = sorted(new_transitions, key=lambda x: x[0])\n",
    "    return sorted_transitions"
   ]
  },
  {
   "cell_type": "code",
   "execution_count": 8,
   "id": "cab72fc8",
   "metadata": {},
   "outputs": [],
   "source": [
    "def generate_landscape(num_nodes,landscape_structure,close=True):\n",
    "    \"\"\"\n",
    "    Sample landscape structure: [[3,.25],[1,.50],[1,.05],[2,.20]]\n",
    "    This corresponds to 4 attractors, of lengths 3, 1, 1, and 2,\n",
    "    with relative basins sizes equal to 25%, 50%, 5%, and 20%\n",
    "    \"\"\"\n",
    "    \n",
    "    s = 2**num_nodes # total number of states in the attractor landscape\n",
    "\n",
    "    # Read the structure of the attractor landscape\n",
    "    lengths = [B[0] for B in landscape_structure]\n",
    "    rel_sizes = [B[1] for B in landscape_structure]\n",
    "    sizes = [int(rel_size*s) for rel_size in rel_sizes] # the last one might be wrong\n",
    "    sizes[-1] = s-(sum(sizes)-sizes[-1]) # this fixes it\n",
    "    # attractor states in each basin:\n",
    "    num_att_states = [ landscape_structure[i][0] for i in range(len(landscape_structure)) ]\n",
    "    \n",
    "    # CONDITION 1:\n",
    "    # 'The sum of the relative basin sizes needs to be 1'\n",
    "    c1 = np.allclose(sum(rel_sizes),1.) \n",
    "\n",
    "    # CONDITION 2:\n",
    "    # All the basins have at least size 1 \n",
    "    # (For small n and small relative size of a basin, the product might result in zero states)\n",
    "    c2 = np.prod([sizes[i] > 0 for i in range(len(sizes))])\n",
    "\n",
    "    # CONDITION3:\n",
    "    # There are at least as many states as attractor states\n",
    "    c3 = np.sum(num_att_states) <= s\n",
    "\n",
    "    # CONDITION4:\n",
    "    # There are at least as many states as attractor states **in each individual basin**\n",
    "    c4 = np.prod([ num_att_states[i] <= sizes[i] for i in range(len(landscape_structure)) ])\n",
    "\n",
    "    # If all conditions are satisfied, proceed:\n",
    "    if c1*c2*c3*c4:\n",
    "    \n",
    "        # generate the individual basins\n",
    "        t = []\n",
    "        for i in range(len(landscape_structure)):\n",
    "            t.append(transitions(lengths[i], sizes[i]))\n",
    "\n",
    "        # join them with the sequential relabeling \n",
    "        all_t = []\n",
    "        for i in range(len(t)):\n",
    "            all_t = join_transitions(all_t,t[i])\n",
    "    \n",
    "        if close:\n",
    "            return labels_permutation_close(all_t)\n",
    "        else:\n",
    "            return labels_permutation(all_t)\n",
    "\n",
    "    else:\n",
    "        if not c1:\n",
    "            print('ERROR: The sum of the relative basin sizes is not 1.')\n",
    "        if not c2:\n",
    "            print('ERROR: At least one basin has size 0.')\n",
    "            print('       (relative size is too small for your n).')\n",
    "        if not c3:\n",
    "            print('ERROR: There are more attractor states than total states.')\n",
    "        if not c4:\n",
    "            print('ERROR: There are more attractor states than total states in at least one basin.')\n",
    "        return None\n"
   ]
  },
  {
   "cell_type": "markdown",
   "id": "e3b7c498",
   "metadata": {},
   "source": [
    "# 2023/9/26 Enrico's idea: subgraph isomorphism (MONOmorphism!)"
   ]
  },
  {
   "cell_type": "markdown",
   "id": "a4359e84",
   "metadata": {},
   "source": [
    "If we create a directed graph GH that connects all states within a given Hamming distance threshold, and a second directed graph GT with the desired transition structure, then there exists a permutation of the labels of GT such that transitions are always below the Hamming distance threshold if GT is a subgraph of GH.  And if that isomorphism is found, we can use the corresponding permutation for the `labels_permutation_close` function."
   ]
  },
  {
   "cell_type": "code",
   "execution_count": 8,
   "id": "3a4682db",
   "metadata": {},
   "outputs": [],
   "source": [
    "import networkx as nx\n",
    "from networkx.algorithms import isomorphism"
   ]
  },
  {
   "cell_type": "code",
   "execution_count": 133,
   "id": "84be68a6",
   "metadata": {},
   "outputs": [
    {
     "data": {
      "text/plain": [
       "<module 'attattach' from '/Users/bdaniel6/packages/AttAttach/AttAttach/attattach.py'>"
      ]
     },
     "execution_count": 133,
     "metadata": {},
     "output_type": "execute_result"
    }
   ],
   "source": [
    "at"
   ]
  },
  {
   "cell_type": "code",
   "execution_count": 11,
   "id": "0422b412",
   "metadata": {},
   "outputs": [],
   "source": [
    "landscape_structure = [[1,.25],[1,.50],[1,.05],[1,.20]]\n",
    "n = 5\n",
    "ls = at.generate_landscape(n,landscape_structure,close=False)"
   ]
  },
  {
   "cell_type": "code",
   "execution_count": 70,
   "id": "e4be9703",
   "metadata": {},
   "outputs": [],
   "source": [
    "GT_directed_edges = ls"
   ]
  },
  {
   "cell_type": "code",
   "execution_count": 69,
   "id": "871b5db8",
   "metadata": {},
   "outputs": [],
   "source": [
    "GH_directed_edges = generate_edges_maximum_H(n,hamming_threshold)"
   ]
  },
  {
   "cell_type": "code",
   "execution_count": 71,
   "id": "0f98c603",
   "metadata": {},
   "outputs": [],
   "source": [
    "GH_reversed_edges = [ (i,j) for (j,i) in GH_directed_edges ]"
   ]
  },
  {
   "cell_type": "code",
   "execution_count": 76,
   "id": "f2804834",
   "metadata": {},
   "outputs": [
    {
     "data": {
      "text/plain": [
       "528"
      ]
     },
     "execution_count": 76,
     "metadata": {},
     "output_type": "execute_result"
    }
   ],
   "source": [
    "len(GH_directed_edges)"
   ]
  },
  {
   "cell_type": "code",
   "execution_count": 75,
   "id": "6f312e3c",
   "metadata": {},
   "outputs": [
    {
     "data": {
      "text/plain": [
       "1056"
      ]
     },
     "execution_count": 75,
     "metadata": {},
     "output_type": "execute_result"
    }
   ],
   "source": [
    "len(GH_directed_edges + GH_reversed_edges)"
   ]
  },
  {
   "cell_type": "code",
   "execution_count": 80,
   "id": "842a5b5b",
   "metadata": {},
   "outputs": [],
   "source": [
    "net_new = nx.DiGraph(GH_directed_edges + GH_reversed_edges)"
   ]
  },
  {
   "cell_type": "code",
   "execution_count": 12,
   "id": "d62a7b84",
   "metadata": {},
   "outputs": [],
   "source": [
    "def flip_bits(label,bit_indices,n):\n",
    "    \"\"\"\n",
    "    Flip bits of state corresponding to label at indices given by bit_indices\n",
    "    \"\"\"\n",
    "    state = label_to_state(label,n)\n",
    "    for i in bit_indices:\n",
    "        if state[i] == 0:\n",
    "            state[i] = 1\n",
    "        else:\n",
    "            state[i] = 0\n",
    "    return state_to_label(state)"
   ]
  },
  {
   "cell_type": "code",
   "execution_count": 45,
   "id": "07cc1cc8",
   "metadata": {},
   "outputs": [
    {
     "data": {
      "text/plain": [
       "778"
      ]
     },
     "execution_count": 45,
     "metadata": {},
     "output_type": "execute_result"
    }
   ],
   "source": [
    "flip_bits(10,[0,1],10)"
   ]
  },
  {
   "cell_type": "code",
   "execution_count": 13,
   "id": "c0e8de44",
   "metadata": {},
   "outputs": [],
   "source": [
    "# old version that only works for H=1\n",
    "# def hamming_network(n,threshold):\n",
    "#     \"\"\"\n",
    "#     Network connecting all states with Hamming distance less than or equal to threshold.\n",
    "#     \"\"\"\n",
    "#     edgelist = []\n",
    "#     for state in range(2**n):\n",
    "#         for h in range(threshold):\n",
    "#             # TO DO: FIX THE FOLLOWING LINES: CURRENTLY JUST INCLUDES STATES AT HAMMING DISTANCE 1\n",
    "#             for i in range(n):\n",
    "#                 bit_indices = [i]\n",
    "#                 edgelist.append((state,flip_bits(state,bit_indices,n)))\n",
    "#     return nx.DiGraph(edgelist)"
   ]
  },
  {
   "cell_type": "code",
   "execution_count": 52,
   "id": "822955ff",
   "metadata": {},
   "outputs": [],
   "source": [
    "from itertools import combinations\n",
    "\n",
    "def hamming_distance(v1, v2):\n",
    "    return sum(x != y for x, y in zip(v1, v2))\n",
    "\n",
    "def generate_edges_fixed_H(n, H):\n",
    "    \"\"\"\n",
    "    (Doesn't work with H=0)\n",
    "    \"\"\"\n",
    "    assert(H>0)\n",
    "    vertices = [(i, format(i, f'0{n}b')) for i in range(2**n)]\n",
    "    edges = []\n",
    "    for v1, v2 in combinations(vertices, 2):\n",
    "        if hamming_distance(v1[1], v2[1]) == H:\n",
    "            edges.append((v1[0], v2[0]))\n",
    "    return edges\n",
    "\n",
    "def generate_edges_maximum_H(n, Hmax):\n",
    "    edges = [ (i,i) for i in range(2**n) ]\n",
    "    for H in range(1,Hmax+1):\n",
    "        edges = edges + generate_edges_fixed_H(n,H)\n",
    "    return edges"
   ]
  },
  {
   "cell_type": "code",
   "execution_count": 15,
   "id": "1b463358",
   "metadata": {},
   "outputs": [
    {
     "data": {
      "text/plain": [
       "<networkx.classes.digraph.DiGraph at 0x7fbf70486070>"
      ]
     },
     "execution_count": 15,
     "metadata": {},
     "output_type": "execute_result"
    }
   ],
   "source": [
    "GT"
   ]
  },
  {
   "cell_type": "code",
   "execution_count": 20,
   "id": "2b827e68",
   "metadata": {},
   "outputs": [
    {
     "data": {
      "text/plain": [
       "5"
      ]
     },
     "execution_count": 20,
     "metadata": {},
     "output_type": "execute_result"
    }
   ],
   "source": [
    "n"
   ]
  },
  {
   "cell_type": "code",
   "execution_count": 23,
   "id": "a84a7bc7",
   "metadata": {},
   "outputs": [
    {
     "data": {
      "text/plain": [
       "32"
      ]
     },
     "execution_count": 23,
     "metadata": {},
     "output_type": "execute_result"
    }
   ],
   "source": [
    "2**5"
   ]
  },
  {
   "cell_type": "code",
   "execution_count": 24,
   "id": "20b7937f",
   "metadata": {},
   "outputs": [
    {
     "data": {
      "text/plain": [
       "496"
      ]
     },
     "execution_count": 24,
     "metadata": {},
     "output_type": "execute_result"
    }
   ],
   "source": [
    "len(GH.edges)"
   ]
  },
  {
   "cell_type": "code",
   "execution_count": 25,
   "id": "4cac6f3b",
   "metadata": {},
   "outputs": [
    {
     "data": {
      "text/plain": [
       "496.0"
      ]
     },
     "execution_count": 25,
     "metadata": {},
     "output_type": "execute_result"
    }
   ],
   "source": [
    "32*31/2"
   ]
  },
  {
   "cell_type": "code",
   "execution_count": 40,
   "id": "fd3753a2",
   "metadata": {},
   "outputs": [],
   "source": []
  },
  {
   "cell_type": "code",
   "execution_count": 132,
   "id": "ea3b9a9e",
   "metadata": {},
   "outputs": [
    {
     "name": "stdout",
     "output_type": "stream",
     "text": [
      "{0: 0, 1: 20, 2: 6, 3: 16, 4: 17, 5: 18, 6: 22, 7: 28, 8: 1, 9: 7, 10: 3, 11: 4, 12: 5, 13: 12, 14: 9, 15: 10, 16: 13, 17: 14, 18: 23, 19: 24, 20: 25, 21: 26, 22: 27, 23: 30, 24: 2, 25: 19, 26: 21, 27: 29, 28: 8, 29: 11, 30: 31, 31: 15}\n"
     ]
    }
   ],
   "source": [
    "# example of searching for isomorphisms using NetworkX:\n",
    "# (see https://networkx.org/documentation/stable/reference/algorithms/isomorphism.vf2.html )\n",
    "hamming_threshold = 5\n",
    "GT = nx.DiGraph(ls)\n",
    "GH = nx.DiGraph(generate_edges_maximum_H(n,hamming_threshold))\n",
    "GH_new = nx.DiGraph(list(GH.edges()) + list(GH.reverse().edges()))\n",
    "\n",
    "DiGM = isomorphism.DiGraphMatcher(GH_new, GT)\n",
    "if DiGM.subgraph_is_monomorphic():\n",
    "    print(DiGM.mapping)\n",
    "else:\n",
    "    print(\"no isomorphism found\")"
   ]
  },
  {
   "cell_type": "code",
   "execution_count": 86,
   "id": "0331657b",
   "metadata": {},
   "outputs": [],
   "source": [
    "DiGM = isomorphism.DiGraphMatcher(GT,net_new)\n",
    "DiGM.subgraph_is_isomorphic()"
   ]
  },
  {
   "cell_type": "code",
   "execution_count": 102,
   "id": "042ff3aa",
   "metadata": {},
   "outputs": [],
   "source": [
    "net_zero = nx.DiGraph([[0,0],[0,2]])\n",
    "net_one = nx.DiGraph([[0,0],[0,1],[1,0],[1,1],[1,2],[2,1],[2,2],[0,2],[2,0]])"
   ]
  },
  {
   "cell_type": "code",
   "execution_count": 103,
   "id": "192e55de",
   "metadata": {},
   "outputs": [
    {
     "data": {
      "text/plain": [
       "False"
      ]
     },
     "execution_count": 103,
     "metadata": {},
     "output_type": "execute_result"
    }
   ],
   "source": [
    "DiGM = isomorphism.DiGraphMatcher(net_one,net_zero)\n",
    "DiGM.subgraph_is_isomorphic()"
   ]
  },
  {
   "cell_type": "code",
   "execution_count": 127,
   "id": "3bc6f14c",
   "metadata": {},
   "outputs": [],
   "source": [
    "net_a = nx.DiGraph([[0,1],[1,2],[2,0],[1,0]])\n",
    "net_b = nx.DiGraph([[1,2],[2,0],[0,1],[0,2],[3,0]])"
   ]
  },
  {
   "cell_type": "code",
   "execution_count": 128,
   "id": "88c647aa",
   "metadata": {},
   "outputs": [
    {
     "data": {
      "text/plain": [
       "True"
      ]
     },
     "execution_count": 128,
     "metadata": {},
     "output_type": "execute_result"
    }
   ],
   "source": [
    "DiGM = isomorphism.DiGraphMatcher(net_b,net_a)\n",
    "DiGM.subgraph_is_isomorphic()"
   ]
  },
  {
   "cell_type": "code",
   "execution_count": 129,
   "id": "c9d94e37",
   "metadata": {},
   "outputs": [],
   "source": [
    "net_a = nx.DiGraph([[0,1],[1,2],[2,0],[1,0]])\n",
    "net_b = nx.DiGraph([[1,2],[2,0],[0,1],[0,2],[3,0],[1,0]])"
   ]
  },
  {
   "cell_type": "code",
   "execution_count": 130,
   "id": "793c122a",
   "metadata": {},
   "outputs": [
    {
     "data": {
      "text/plain": [
       "False"
      ]
     },
     "execution_count": 130,
     "metadata": {},
     "output_type": "execute_result"
    }
   ],
   "source": [
    "DiGM = isomorphism.DiGraphMatcher(net_b,net_a)\n",
    "DiGM.subgraph_is_isomorphic()"
   ]
  },
  {
   "cell_type": "code",
   "execution_count": 131,
   "id": "6a1a8991",
   "metadata": {},
   "outputs": [
    {
     "data": {
      "text/plain": [
       "True"
      ]
     },
     "execution_count": 131,
     "metadata": {},
     "output_type": "execute_result"
    }
   ],
   "source": [
    "DiGM.subgraph_is_monomorphic()"
   ]
  },
  {
   "cell_type": "code",
   "execution_count": null,
   "id": "a381a8c3",
   "metadata": {},
   "outputs": [],
   "source": []
  }
 ],
 "metadata": {
  "kernelspec": {
   "display_name": "Python 3 (ipykernel)",
   "language": "python",
   "name": "python3"
  },
  "language_info": {
   "codemirror_mode": {
    "name": "ipython",
    "version": 3
   },
   "file_extension": ".py",
   "mimetype": "text/x-python",
   "name": "python",
   "nbconvert_exporter": "python",
   "pygments_lexer": "ipython3",
   "version": "3.9.16"
  }
 },
 "nbformat": 4,
 "nbformat_minor": 5
}
