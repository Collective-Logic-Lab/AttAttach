{
 "cells": [
  {
   "cell_type": "markdown",
   "id": "333fa995",
   "metadata": {},
   "source": [
    "# Edges between states at a given/maximum Hamming distance in a Boolean Network\n",
    "Enrico Borriello, Oct 3, 2023"
   ]
  },
  {
   "cell_type": "code",
   "execution_count": 1,
   "id": "49586317",
   "metadata": {},
   "outputs": [],
   "source": [
    "from itertools import combinations\n",
    "\n",
    "def hamming_distance(v1, v2):\n",
    "    return sum(x != y for x, y in zip(v1, v2))\n",
    "\n",
    "def generate_edges_fixed_H(n, H):\n",
    "    \"\"\"\n",
    "    (Doesn't work with H=0)\n",
    "    \"\"\"\n",
    "    assert(H>0)\n",
    "    vertices = [(i, format(i, f'0{n}b')) for i in range(2**n)]\n",
    "    edges = []\n",
    "    for v1, v2 in combinations(vertices, 2):\n",
    "        if hamming_distance(v1[1], v2[1]) == H:\n",
    "            edges.append((v1[0], v2[0]))\n",
    "    return edges\n",
    "\n",
    "def generate_edges_maximum_H(n, Hmax):\n",
    "    edges = [ (i,i) for i in range(2**n) ]\n",
    "    for H in range(1,Hmax+1):\n",
    "        edges = edges + generate_edges_fixed_H(n,H)\n",
    "    return edges + [ (j,i) for (i,j) in edges ] # may want to clean up here (remove i,i edges)"
   ]
  },
  {
   "cell_type": "markdown",
   "id": "7ced52ca",
   "metadata": {},
   "source": [
    "## TESTS"
   ]
  },
  {
   "cell_type": "code",
   "execution_count": 2,
   "id": "eeeef32d",
   "metadata": {},
   "outputs": [],
   "source": [
    "import numpy as np\n",
    "\n",
    "def label_to_state (label, digits):\n",
    "    return np.array(list(map(int,list(format(label,'0'+str(digits)+'b')))))\n",
    "\n",
    "def state_to_label (state):\n",
    "    return int(''.join(map(str,state)),2)"
   ]
  },
  {
   "cell_type": "code",
   "execution_count": 3,
   "id": "df46df0a",
   "metadata": {},
   "outputs": [],
   "source": [
    "# TEST 1: fixed distance\n",
    "\n",
    "n = 8\n",
    "H = 3\n",
    "\n",
    "edges = generate_edges_fixed_H(n, H)\n",
    "#print(edges)"
   ]
  },
  {
   "cell_type": "code",
   "execution_count": 5,
   "id": "4cf45d44",
   "metadata": {},
   "outputs": [],
   "source": [
    "distances = []\n",
    "for edge in edges:\n",
    "    state0 = label_to_state (edge[0], n)\n",
    "    state1 = label_to_state (edge[1], n)\n",
    "    distance = hamming_distance(state0, state1)\n",
    "    #print(state0,state1,distance)\n",
    "    distances.append(distance)"
   ]
  },
  {
   "cell_type": "code",
   "execution_count": 6,
   "id": "8aaeb271",
   "metadata": {},
   "outputs": [
    {
     "name": "stdout",
     "output_type": "stream",
     "text": [
      "#edges = 7168\n",
      "min H = 3\n",
      "max H = 3\n"
     ]
    }
   ],
   "source": [
    "print('#edges = '+str(len(edges)))\n",
    "print('min H = '+str(min(distances)))\n",
    "print('max H = '+str(max(distances)))"
   ]
  },
  {
   "cell_type": "code",
   "execution_count": null,
   "id": "bc0e71d4",
   "metadata": {},
   "outputs": [],
   "source": [
    "# TEST 2: maximum distance\n",
    "\n",
    "n = 8\n",
    "Hmax = 3\n",
    "\n",
    "edges = generate_edges_maximum_H(n, Hmax)\n",
    "#print(edges)\n",
    "#len(edges)"
   ]
  },
  {
   "cell_type": "code",
   "execution_count": null,
   "id": "0d13e680",
   "metadata": {},
   "outputs": [],
   "source": [
    "distances = []\n",
    "for edge in edges:\n",
    "    state0 = label_to_state (edge[0], n)\n",
    "    state1 = label_to_state (edge[1], n)\n",
    "    distance = hamming_distance(state0, state1)\n",
    "    #print(state0,state1,distance)\n",
    "    distances.append(distance)"
   ]
  },
  {
   "cell_type": "code",
   "execution_count": null,
   "id": "54342b7d",
   "metadata": {},
   "outputs": [],
   "source": [
    "print('#edges = '+str(len(edges)))\n",
    "print('min H = '+str(min(distances)))\n",
    "print('max H = '+str(max(distances)))"
   ]
  },
  {
   "cell_type": "markdown",
   "id": "b8b00ff3",
   "metadata": {},
   "source": [
    "# 2023/10/17"
   ]
  },
  {
   "cell_type": "code",
   "execution_count": 7,
   "id": "b520da77",
   "metadata": {},
   "outputs": [],
   "source": [
    "import networkx as nx\n",
    "import AttAttach.attattach as at\n",
    "from networkx.algorithms import isomorphism"
   ]
  },
  {
   "cell_type": "code",
   "execution_count": 8,
   "id": "d81aadfe",
   "metadata": {},
   "outputs": [],
   "source": [
    "landscape_structure = [[1,.25],[1,.50],[1,.05],[1,.20]]\n",
    "n = 5\n",
    "ls = at.generate_landscape(n,landscape_structure,close=False)"
   ]
  },
  {
   "cell_type": "code",
   "execution_count": 14,
   "id": "0c7ad2ce",
   "metadata": {},
   "outputs": [
    {
     "name": "stdout",
     "output_type": "stream",
     "text": [
      "{0: 0, 1: 24, 2: 1, 3: 2, 4: 5, 5: 6, 8: 7, 9: 8, 16: 13, 17: 14, 7: 17, 11: 20, 13: 22, 19: 23, 21: 26, 10: 28, 6: 3, 12: 29, 18: 4, 20: 10, 24: 15, 14: 16, 22: 30, 15: 9, 23: 11, 27: 18, 25: 31, 26: 21, 29: 12, 31: 19, 28: 25, 30: 27}\n"
     ]
    }
   ],
   "source": [
    "# example of searching for MONOmorphisms using NetworkX:\n",
    "# (see https://networkx.org/documentation/stable/reference/algorithms/isomorphism.vf2.html )\n",
    "hamming_threshold = 2\n",
    "GT = nx.DiGraph(ls)\n",
    "GH = nx.DiGraph(generate_edges_maximum_H(n,hamming_threshold))\n",
    "\n",
    "DiGM = isomorphism.DiGraphMatcher(GH, GT)\n",
    "if DiGM.subgraph_is_monomorphic():\n",
    "    print(DiGM.mapping)\n",
    "else:\n",
    "    print(\"no monomorphism found\")"
   ]
  },
  {
   "cell_type": "code",
   "execution_count": null,
   "id": "b6acf197",
   "metadata": {},
   "outputs": [],
   "source": []
  }
 ],
 "metadata": {
  "kernelspec": {
   "display_name": "Python 3 (ipykernel)",
   "language": "python",
   "name": "python3"
  },
  "language_info": {
   "codemirror_mode": {
    "name": "ipython",
    "version": 3
   },
   "file_extension": ".py",
   "mimetype": "text/x-python",
   "name": "python",
   "nbconvert_exporter": "python",
   "pygments_lexer": "ipython3",
   "version": "3.9.16"
  }
 },
 "nbformat": 4,
 "nbformat_minor": 5
}
