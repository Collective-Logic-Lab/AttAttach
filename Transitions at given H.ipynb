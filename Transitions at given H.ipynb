{
 "cells": [
  {
   "cell_type": "markdown",
   "id": "333fa995",
   "metadata": {},
   "source": [
    "# Edges between states at a given/maximum Hamming distance in a Boolean Network\n",
    "Enrico Borriello, Oct 3, 2023"
   ]
  },
  {
   "cell_type": "code",
   "execution_count": 89,
   "id": "49586317",
   "metadata": {},
   "outputs": [],
   "source": [
    "from itertools import combinations\n",
    "\n",
    "def hamming_distance(v1, v2):\n",
    "    return sum(x != y for x, y in zip(v1, v2))\n",
    "\n",
    "def generate_edges_fixed_H(n, H):\n",
    "    vertices = [(i, format(i, f'0{n}b')) for i in range(2**n)]\n",
    "    edges = []\n",
    "    for v1, v2 in combinations(vertices, 2):\n",
    "        if hamming_distance(v1[1], v2[1]) == H:\n",
    "            edges.append((v1[0], v2[0]))\n",
    "    return edges\n",
    "\n",
    "def generate_edges_maximum_H(n, Hmax):\n",
    "    edges = []\n",
    "    for H in range(1,Hmax+1):\n",
    "        edges = edges + generate_edges_fixed_H(n,H)\n",
    "    return edges"
   ]
  },
  {
   "cell_type": "markdown",
   "id": "7ced52ca",
   "metadata": {},
   "source": [
    "## TESTS"
   ]
  },
  {
   "cell_type": "code",
   "execution_count": 82,
   "id": "eeeef32d",
   "metadata": {},
   "outputs": [],
   "source": [
    "import numpy as np\n",
    "\n",
    "def label_to_state (label, digits):\n",
    "    return np.array(list(map(int,list(format(label,'0'+str(digits)+'b')))))\n",
    "\n",
    "def state_to_label (state):\n",
    "    return int(''.join(map(str,state)),2)"
   ]
  },
  {
   "cell_type": "code",
   "execution_count": 83,
   "id": "df46df0a",
   "metadata": {},
   "outputs": [],
   "source": [
    "# TEST 1: fixed distance\n",
    "\n",
    "n = 8\n",
    "H = 3\n",
    "\n",
    "edges = generate_edges_fixed_H(n, H)\n",
    "#print(edges)"
   ]
  },
  {
   "cell_type": "code",
   "execution_count": 84,
   "id": "4cf45d44",
   "metadata": {},
   "outputs": [],
   "source": [
    "distances = []\n",
    "for edge in edges:\n",
    "    state0 = label_to_state (edge[0], n)\n",
    "    state1 = label_to_state (edge[1], n)\n",
    "    distance = hamming_distance(state0, state1)\n",
    "    #print(state0,state1,distance)\n",
    "    distances.append(distance)"
   ]
  },
  {
   "cell_type": "code",
   "execution_count": 85,
   "id": "8aaeb271",
   "metadata": {},
   "outputs": [
    {
     "name": "stdout",
     "output_type": "stream",
     "text": [
      "#edges = 7168\n",
      "min H = 3\n",
      "max H = 3\n"
     ]
    }
   ],
   "source": [
    "print('#edges = '+str(len(edges)))\n",
    "print('min H = '+str(min(distances)))\n",
    "print('max H = '+str(max(distances)))"
   ]
  },
  {
   "cell_type": "code",
   "execution_count": 86,
   "id": "bc0e71d4",
   "metadata": {},
   "outputs": [],
   "source": [
    "# TEST 2: maximum distance\n",
    "\n",
    "n = 8\n",
    "Hmax = 3\n",
    "\n",
    "edges = generate_edges_maximum_H(n, Hmax)\n",
    "#print(edges)\n",
    "#len(edges)"
   ]
  },
  {
   "cell_type": "code",
   "execution_count": 87,
   "id": "0d13e680",
   "metadata": {},
   "outputs": [],
   "source": [
    "distances = []\n",
    "for edge in edges:\n",
    "    state0 = label_to_state (edge[0], n)\n",
    "    state1 = label_to_state (edge[1], n)\n",
    "    distance = hamming_distance(state0, state1)\n",
    "    #print(state0,state1,distance)\n",
    "    distances.append(distance)"
   ]
  },
  {
   "cell_type": "code",
   "execution_count": 88,
   "id": "54342b7d",
   "metadata": {},
   "outputs": [
    {
     "name": "stdout",
     "output_type": "stream",
     "text": [
      "#edges = 11776\n",
      "min H = 1\n",
      "max H = 3\n"
     ]
    }
   ],
   "source": [
    "print('#edges = '+str(len(edges)))\n",
    "print('min H = '+str(min(distances)))\n",
    "print('max H = '+str(max(distances)))"
   ]
  }
 ],
 "metadata": {
  "kernelspec": {
   "display_name": "Python 3",
   "language": "python",
   "name": "python3"
  },
  "language_info": {
   "codemirror_mode": {
    "name": "ipython",
    "version": 3
   },
   "file_extension": ".py",
   "mimetype": "text/x-python",
   "name": "python",
   "nbconvert_exporter": "python",
   "pygments_lexer": "ipython3",
   "version": "3.9.5"
  }
 },
 "nbformat": 4,
 "nbformat_minor": 5
}
